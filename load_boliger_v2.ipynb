{
 "cells": [
  {
   "cell_type": "markdown",
   "metadata": {},
   "source": [
    "For this to work we need to have Phantom installed (https://stackoverflow.com/questions/8049520/web-scraping-javascript-page-with-python) in order to be able to render javascript content"
   ]
  },
  {
   "cell_type": "code",
   "execution_count": 1,
   "metadata": {},
   "outputs": [],
   "source": [
    "from bs4 import BeautifulSoup, SoupStrainer\n",
    "import urllib\n",
    "import re\n",
    "import pandas as pd\n",
    "from collections import defaultdict\n",
    "import numpy as np\n",
    "\n",
    "# Try 2 - \n",
    "# https://stackoverflow.com/questions/29404856/how-can-i-render-javascript-html-to-html-in-python \n",
    "# https://stackoverflow.com/questions/29858752/error-message-chromedriver-executable-needs-to-be-available-in-the-path\n",
    "\n",
    "from selenium import webdriver\n",
    "from urllib.request import urlopen\n",
    "from webdriver_manager.chrome import ChromeDriverManager\n",
    "from webdriver_manager.firefox import GeckoDriverManager"
   ]
  },
  {
   "cell_type": "code",
   "execution_count": 2,
   "metadata": {},
   "outputs": [],
   "source": [
    "def read_adress_data(pickle_path='data/adresses/copenhagen_adresses.pickle', raw_path='http://dawa.aws.dk/adresser?format=csv&kommunekode=0101'):\n",
    "    try: \n",
    "        print('Loading from pickle')\n",
    "        df_adress = pd.read_pickle(pickle_path)\n",
    "    except:\n",
    "        print(f'Loading from pickle failed. Loading from source ({raw_path}) instead')\n",
    "        address_path = raw_path     #address_path = 'http://dawa.aws.dk/adresser?format=json&kommunekode=0101'\n",
    "        with urllib.request.urlopen(address_path) as f:\n",
    "            data_binary = f.readlines() #.decode()\n",
    "        data = [re.sub(r'(?!(([^\"]*\"){2})*[^\"]*$),', '', x.decode().strip()).split(',') for x in data_binary] # https://stackoverflow.com/questions/38336518/remove-all-commas-between-quotes\n",
    "        df_adress = pd.DataFrame(data[1:], columns=data[0])\n",
    "        df.to_pickle(pickle_path)\n",
    "    return df_adress"
   ]
  },
  {
   "cell_type": "code",
   "execution_count": 3,
   "metadata": {},
   "outputs": [
    {
     "name": "stdout",
     "output_type": "stream",
     "text": [
      "Loading from pickle\n"
     ]
    }
   ],
   "source": [
    "df_adress = read_adress_data()"
   ]
  },
  {
   "cell_type": "code",
   "execution_count": 4,
   "metadata": {},
   "outputs": [
    {
     "name": "stdout",
     "output_type": "stream",
     "text": [
      "Scraping https://www.boliga.dk/resultat?sort=zipCode-a&municipality=101&page=1\n",
      "Scraping https://www.boliga.dk/resultat?sort=zipCode-a&municipality=101&page=2\n",
      "Scraping https://www.boliga.dk/resultat?sort=zipCode-a&municipality=101&page=3\n"
     ]
    }
   ],
   "source": [
    "def get_bolig_list(municipality_code='101', pages=3):\n",
    "    \n",
    "    bolig_liste = defaultdict(str)\n",
    "\n",
    "    for page in range(1, pages+1):\n",
    "        url_in_scope = f'https://www.boliga.dk/resultat?sort=zipCode-a&municipality={municipality_code}&page={page}'\n",
    "        print('Scraping', url_in_scope)\n",
    "        try:\n",
    "            page = urllib.request.urlopen(url_in_scope)\n",
    "            #soup = BeautifulSoup(page, 'html.parser')\n",
    "            #print(soup)\n",
    "\n",
    "            for link in BeautifulSoup(page, 'html.parser', parse_only=SoupStrainer('a')):\n",
    "\n",
    "                if link.has_attr('href'):\n",
    "                    #print(link['href'])\n",
    "                    if re.match('/bolig/\\d*/.*', link['href']):\n",
    "                        bolig_liste[link['href']] = defaultdict(str)\n",
    "\n",
    "\n",
    "        except Exception as e:\n",
    "                print(\"An error occured.\", e)\n",
    "    \n",
    "    return bolig_liste\n",
    "\n",
    "bolig_liste = get_bolig_list(municipality_code='101', pages=3)"
   ]
  },
  {
   "cell_type": "code",
   "execution_count": 5,
   "metadata": {},
   "outputs": [
    {
     "name": "stdout",
     "output_type": "stream",
     "text": [
      "\n",
      "Looking for [chromedriver 80.0.3987.106 win32] driver in cache \n",
      "File found in cache by path [C:\\Users\\theone\\.wdm\\drivers\\chromedriver\\80.0.3987.106\\win32\\chromedriver.exe]\n"
     ]
    }
   ],
   "source": [
    "#url = bolig_url# 'http://www.google.com'\n",
    "def get_html_with_js(bolig_url):\n",
    "    \"\"\"\n",
    "    Get html with javascript data compiled\n",
    "    \"\"\"\n",
    "    file_name = 'C:/working/ngs-lib/Boligsalg/data/url_data/data.txt'\n",
    "    # Store HTML locally \n",
    "    conn = urlopen(bolig_url)\n",
    "    data = conn.read()\n",
    "    conn.close()\n",
    "    file = open(file_name,'wb')\n",
    "    file.write(data)\n",
    "    file.close()\n",
    "\n",
    "    # Compile javascript to get complete complete html\n",
    "    browser = webdriver.Chrome(ChromeDriverManager().install()) #browser = webdriver.Firefox(executable_path=GeckoDriverManager().install())\n",
    "    browser.get('file:///'+file_name) #browser.get(url)\n",
    "    html = browser.page_source\n",
    "    browser.quit()\n",
    "    \n",
    "    return html \n",
    "\n",
    "bolig_urls = [f'https://www.boliga.dk{bolig}' for bolig in bolig_liste]\n",
    "#bolig_url = bolig_urls[1] # \n",
    "bolig_url = 'https://www.boliga.dk/bolig/1644897/ingrid_marievej_66__12_4_2500_valby'\n",
    "html = get_html_with_js(bolig_url)\n",
    "soup = BeautifulSoup(html, \"html.parser\")"
   ]
  },
  {
   "cell_type": "code",
   "execution_count": 61,
   "metadata": {},
   "outputs": [
    {
     "name": "stdout",
     "output_type": "stream",
     "text": [
      "tag pre\n",
      "0 285832\n",
      "      Interesting, found Marievej in pre\n",
      "      Interesting, found 4.672 in pre\n",
      "      Interesting, found 4.945.000 in pre\n",
      "      Interesting, found mar. 2020 in pre\n",
      "      Interesting, found Boligen blev sat til salg in pre\n",
      "      Interesting, found A20 in pre\n",
      "      Interesting, found 114 in pre\n",
      "      Interesting, found 2500 Valby in pre\n",
      "      Interesting, found 6 dage på markedet in pre\n",
      "      Interesting, found Se bolig hos mægler in pre\n",
      "      Interesting, found danbolig in pre\n",
      "      Interesting, found 4 værelser in pre\n"
     ]
    }
   ],
   "source": [
    "# look_for_list = ['Marievej',\n",
    "#                      '4.672',\n",
    "#                      '4.945.000',\n",
    "#                      #'250.000',\n",
    "#                      #'43.377',\n",
    "#                      'mar. 2020',\n",
    "#                      'Boligen blev sat til salg',\n",
    "#                      'A20',\n",
    "#                      '114',\n",
    "#                      '2500 Valby',\n",
    "#                      '6 dage på markedet',\n",
    "#                      'Se bolig hos mægler',\n",
    "#                      'danbolig',\n",
    "#                      '4 værelser']\n",
    "\n",
    "# type(html)\n",
    "# soup = BeautifulSoup(html, \"html.parser\")\n",
    "# tags = {tag.name: 1 for tag in soup.find_all()}\n",
    "\n",
    "# for t in list(tags)[3:]:\n",
    "#     print('tag', t)\n",
    "#     tag_contents = [str(tag_v) for tag_v in soup.find(t)]\n",
    "#     for j, tag_v in enumerate(tag_contents):\n",
    "#         print(j, len(tag_v))\n",
    "        \n",
    "#         for lookout in look_for_list:\n",
    "#             if lookout in tag_v:\n",
    "#                 print(' '*5, 'Interesting, found', lookout, 'in', t)"
   ]
  },
  {
   "cell_type": "markdown",
   "metadata": {},
   "source": [
    "Manual code to determine where the relevant stuff is!"
   ]
  },
  {
   "cell_type": "code",
   "execution_count": 157,
   "metadata": {},
   "outputs": [
    {
     "name": "stdout",
     "output_type": "stream",
     "text": [
      "in scope danbolig\n",
      "danbolig 124292\n",
      "t-bolder px-1 ng-star-inserted\" data-gtm=\"see_property_at_agency_btn\" target=\"_blank\" href=\"https://danbolig.dk/bolig/koebenhavn/2500/ejerlejlighed/069bf9-0106-069\"> Se bolig hos mægler - 2 klik </a><\n",
      "\n",
      "danbolig 124292\n",
      "t-bolder px-1 ng-star-inserted\" data-gtm=\"see_property_at_agency_btn\" target=\"_blank\" href=\"https://danbolig.dk/bolig/koebenhavn/2500/ejerlejlighed/069bf9-0106-069\"> Se bolig hos mægler - 2 klik </a><\n",
      "\n",
      "danbolig 124292\n",
      "t-bolder px-1 ng-star-inserted\" data-gtm=\"see_property_at_agency_btn\" target=\"_blank\" href=\"https://danbolig.dk/bolig/koebenhavn/2500/ejerlejlighed/069bf9-0106-069\"> Se bolig hos mægler - 2 klik </a><\n",
      "\n"
     ]
    }
   ],
   "source": [
    "i = 10\n",
    "print('in scope', look_for_list[i])\n",
    "\n",
    "list_in_scope = look_for_list[i:i+1]\n",
    "#list_in_scope = ['<p _ngcontent-sc39=\"\" class=\"app-tooltip ng-star-inserted\"><!----><!---->']\n",
    "\n",
    "#lookout = look_for_list[0]\n",
    "contents = [str(x) for x in soup.find('pre')]\n",
    "for content in contents: \n",
    "    for lookout in list_in_scope:\n",
    "        start = 0\n",
    "        end = np.inf\n",
    "        counter = 0\n",
    "        while True:\n",
    "            counter += 1\n",
    "            start = content.find(lookout, start)\n",
    "            #place = content.find(lookout, start)\n",
    "            print(lookout, start) \n",
    "            print(content[start-100:start+100])\n",
    "            print('')\n",
    "            if start == -1:\n",
    "                break\n",
    "            if counter > 2:\n",
    "                break\n",
    "#     if lookout in content:\n",
    "#         print('fun')"
   ]
  },
  {
   "cell_type": "code",
   "execution_count": 154,
   "metadata": {},
   "outputs": [],
   "source": [
    "# Patterns to look for\n",
    "\n",
    "\n",
    "lookout_dict = {}\n",
    "lookout_dict['Adresse'] = {'start_value': ['<meta name=\"keywords\" content=\"\">', '<title>'],\n",
    "                          'end_value': ['</title>', ' - '],\n",
    "                          'name': 'Adresse',\n",
    "                          'list': False,\n",
    "                          'limit': 1}\n",
    "\n",
    "lookout_dict['Basisoplysninger'] = {'start_key': ['<span _ngcontent-sc41=\"\" class=\"mb-1 d-md-none font-weight-bold w-100\">'],\n",
    "                              'end_key': ['</span>'],\n",
    "                              'start_value': ['<span _ngcontent-sc41=\"\" class=\"d-md-none my-auto\">'],\n",
    "                              'end_value': ['</span>'],\n",
    "                              'name': None, # missing, so will need to find it in data!\n",
    "                              'list': False,\n",
    "                              'limit': 9}\n",
    "\n",
    "\n",
    "lookout_dict['Pris'] = {'start_value': ['<span class=\"h-md-2 h4 font-weight-bold m-0 text-nowrap\">'],\n",
    "                              'end_value': ['</span>'],\n",
    "                              'name': 'Pris', # missing, so will need to find it in data!\n",
    "                              'list': False,\n",
    "                              'limit': 1}\n",
    "\n",
    "lookout_dict['Timeline'] = {'start_value': ['<span _ngcontent-sc23=\"\" class=\"d-sm-none d-table-cell timeline\">'],\n",
    "                              'end_value': ['</span>'],\n",
    "                              'name': 'Timeline_time', # missing, so will need to find it in data!\n",
    "                              'list': True,\n",
    "                              'limit': 10}\n",
    "\n",
    "lookout_dict['Timeline_action'] = {'start_value': ['<div _ngcontent-sc23=\"\" class=\"mr-0 mr-sm-2\"><!---->'],\n",
    "                              'end_value': ['<!---->'],\n",
    "                              'name': 'Timeline_action', # missing, so will need to find it in data!\n",
    "                              'list': True,\n",
    "                              'limit': 10}\n",
    "\n",
    "lookout_dict['Timeline_price'] = {'start_value': ['<span _ngcontent-sc23=\"\">'],\n",
    "                              'end_value': ['<'],\n",
    "                              'name': 'Timeline_price', # missing, so will need to find it in data!\n",
    "                              'list': True,\n",
    "                              'limit': 10}\n",
    "\n",
    "\n",
    "lookout_dict['Boligtype'] = { 'start_value': ['<app-tooltip _ngcontent-sc38=\"\" class=\"md-right flex-shrink-0\" _nghost-sc39=\"\"><!----><p _ngcontent-sc39=\"\" class=\"app-tooltip ng-star-inserted\"><!----><!---->'],\n",
    "                              'end_value': ['<!---->'],\n",
    "                              'name': 'Boligtype', # missing, so will need to find it in data!\n",
    "                              'list': False,\n",
    "                              'limit': 1}\n",
    "\n",
    "lookout_dict['Oprettet'] = { 'start_value': ['<app-tooltip class=\"tooltip-nowrap\" _nghost-sc39=\"\"><!----><p _ngcontent-sc39=\"\" class=\"app-tooltip ng-star-inserted\"><!----><!---->', '<p _ngcontent-sc39=\"\" class=\"app-tooltip ng-star-inserted\"><!----><!---->'],\n",
    "                              'end_value': ['<!---->'],\n",
    "                              'name': 'Oprettet', # missing, so will need to find it in data!\n",
    "                              'list': False,\n",
    "                              'limit': 1}\n",
    "\n",
    "lookout_dict['Markedstid'] = {'start_value': ['<use xlink:href=\"#icon-calendar\"></use></svg><span class=\"text-primary h5 h-md-4 m-0\">'],\n",
    "                              'end_value': ['</span>'],\n",
    "                              'name': 'Markedstid', # missing, so will need to find it in data!\n",
    "                              'list': False,\n",
    "                              'limit': 1}\n",
    "\n",
    "lookout_dict['Link'] = {'start_value': ['<a class=\"btn btn-primary col-12 w-100 font-weight-bolder px-1 ng-star-inserted\" data-gtm=\"see_property_at_agency_btn\" target=\"_blank\" href=\"'],\n",
    "                              'end_value': ['\"'],\n",
    "                              'name': 'Link', # missing, so will need to find it in data!\n",
    "                              'list': False,\n",
    "                              'limit': 1}\n",
    "\n",
    "# \n",
    "\n",
    "#lookout_dict"
   ]
  },
  {
   "cell_type": "code",
   "execution_count": 158,
   "metadata": {},
   "outputs": [],
   "source": [
    "def get_start_end(lookout_starts, lookout_ends, content, start=0, end=10e6):\n",
    "    \"\"\"\n",
    "    Get start and end of the lookout patterns\n",
    "    \"\"\"\n",
    "    for lookout_start in lookout_starts:\n",
    "        start = content.find(lookout_start, start+1)\n",
    "    for e, lookout_end in enumerate(lookout_ends):\n",
    "        if e == 0:\n",
    "            end = content.find(lookout_end, start+len(lookout_starts[-1]))\n",
    "        else: \n",
    "            end = content.rfind(lookout_end, start+len(lookout_starts[-1]), end)\n",
    "\n",
    "    return start, end "
   ]
  },
  {
   "cell_type": "code",
   "execution_count": 156,
   "metadata": {},
   "outputs": [
    {
     "name": "stdout",
     "output_type": "stream",
     "text": [
      "Lookout patterns Adresse {'start_value': ['<meta name=\"keywords\" content=\"\">', '<title>'], 'end_value': ['</title>', ' - '], 'name': 'Adresse', 'list': False, 'limit': 1}\n",
      "start 735 780\n",
      "Lookout patterns Basisoplysninger {'start_key': ['<span _ngcontent-sc41=\"\" class=\"mb-1 d-md-none font-weight-bold w-100\">'], 'end_key': ['</span>'], 'start_value': ['<span _ngcontent-sc41=\"\" class=\"d-md-none my-auto\">'], 'end_value': ['</span>'], 'name': None, 'list': False, 'limit': 9}\n",
      "start 117551 117610\n",
      "start 118250 118307\n",
      "start 118936 118990\n",
      "start 119606 119666\n",
      "start 120293 120350\n",
      "start 120976 121032\n",
      "start 121815 121889\n",
      "start 122546 122603\n",
      "start 123434 123493\n",
      "Lookout patterns Pris {'start_value': ['<span class=\"h-md-2 h4 font-weight-bold m-0 text-nowrap\">'], 'end_value': ['</span>'], 'name': 'Pris', 'list': False, 'limit': 1}\n",
      "start 115396 115473\n",
      "Lookout patterns Timeline {'start_value': ['<span _ngcontent-sc23=\"\" class=\"d-sm-none d-table-cell timeline\">'], 'end_value': ['</span>'], 'name': 'Timeline_time', 'list': True, 'limit': 10}\n",
      "start 139435 139511\n",
      "Lookout patterns Timeline_action {'start_value': ['<div _ngcontent-sc23=\"\" class=\"mr-0 mr-sm-2\"><!---->'], 'end_value': ['<!---->'], 'name': 'Timeline_action', 'list': True, 'limit': 10}\n",
      "start 139518 139597\n",
      "Lookout patterns Timeline_price {'start_value': ['<span _ngcontent-sc23=\"\">'], 'end_value': ['<'], 'name': 'Timeline_price', 'list': True, 'limit': 10}\n",
      "start 139825 139870\n",
      "Lookout patterns Boligtype {'start_value': ['<app-tooltip _ngcontent-sc38=\"\" class=\"md-right flex-shrink-0\" _nghost-sc39=\"\"><!----><p _ngcontent-sc39=\"\" class=\"app-tooltip ng-star-inserted\"><!----><!---->'], 'end_value': ['<!---->'], 'name': 'Boligtype', 'list': False, 'limit': 1}\n",
      "start 114608 114782\n",
      "Lookout patterns Oprettet {'start_value': ['<app-tooltip class=\"tooltip-nowrap\" _nghost-sc39=\"\"><!----><p _ngcontent-sc39=\"\" class=\"app-tooltip ng-star-inserted\"><!----><!---->', '<p _ngcontent-sc39=\"\" class=\"app-tooltip ng-star-inserted\"><!----><!---->'], 'end_value': ['<!---->'], 'name': 'Oprettet', 'list': False, 'limit': 1}\n",
      "start 116415 116512\n",
      "Lookout patterns Markedstid {'start_value': ['<use xlink:href=\"#icon-calendar\"></use></svg><span class=\"text-primary h5 h-md-4 m-0\">'], 'end_value': ['</span>'], 'name': 'Markedstid', 'list': False, 'limit': 1}\n",
      "start 116568 116674\n",
      "Lookout patterns Link {'start_value': ['<a class=\"btn btn-primary col-12 w-100 font-weight-bolder px-1 ng-star-inserted\" data-gtm=\"see_property_at_agency_btn\" target=\"_blank\" href=\"'], 'end_value': ['\"'], 'name': 'Link', 'list': False, 'limit': 1}\n",
      "start 124143 124355\n"
     ]
    },
    {
     "data": {
      "text/plain": [
       "{'Adresse': 'Ingrid Marievej 66  12. 4., 2500 Valby',\n",
       " 'Boligstørrelse': '114 m²',\n",
       " 'Grundstørrelse': '0 m²',\n",
       " 'Værelser': '4',\n",
       " 'Etage': '12. sal',\n",
       " 'Byggeår': '2020',\n",
       " 'Energimærke': 'A20',\n",
       " 'Ejerudgift': '4.672&nbsp; kr. / md.',\n",
       " 'Kælderstørrelse': '0 m²',\n",
       " 'Boligareal, tinglyst': '114 m²',\n",
       " 'Pris': '4.945.000&nbsp;kr.',\n",
       " 'Timeline_time': ['mar. 2020'],\n",
       " 'Timeline_action': ['Boligen blev sat til salg'],\n",
       " 'Timeline_price': ['4.945.000&nbsp;kr.'],\n",
       " 'Boligtype': 'Ejerlejlighed',\n",
       " 'Oprettet': 'Oprettet 14. mar. 2020',\n",
       " 'Markedstid': '6 dage på markedet',\n",
       " 'Link': 'https://danbolig.dk/bolig/koebenhavn/2500/ejerlejlighed/069bf9-0106-069'}"
      ]
     },
     "execution_count": 156,
     "metadata": {},
     "output_type": "execute_result"
    }
   ],
   "source": [
    "bolig_dict = {}\n",
    "bolig_dict_temp = {}\n",
    "\n",
    "#lookout = look_for_list[0]\n",
    "contents = [str(x) for x in soup.find('pre')]\n",
    "for content in contents: \n",
    "    for k in lookout_dict:\n",
    "        print('Lookout patterns', k,  lookout_dict[k])\n",
    "        start = 0\n",
    "        end = len(content)\n",
    "        counter = 0\n",
    "        while True:\n",
    "            \n",
    "            if 'name' in lookout_dict[k]: \n",
    "                key_in_scope = lookout_dict[k]['name']\n",
    "            \n",
    "            if ('start_key' and 'end_key') in lookout_dict[k]: \n",
    "                #print('looking for key')\n",
    "                lookout_starts = lookout_dict[k]['start_key'] #['<meta name=\"keywords\" content=\"\">', '<title>']\n",
    "                lookout_ends = lookout_dict[k]['end_key']\n",
    "                start, end = get_start_end(lookout_starts, lookout_ends, content, start=start, end=end)\n",
    "                key_in_scope = content[start+len(lookout_starts[-1]):end].strip() # finding key from context\n",
    "\n",
    "            if ('start_value' and 'end_value') in lookout_dict[k]: \n",
    "                #print('looking for value')\n",
    "                lookout_starts = lookout_dict[k]['start_value'] #['<meta name=\"keywords\" content=\"\">', '<title>']\n",
    "                lookout_ends = lookout_dict[k]['end_value']\n",
    "                start, end = get_start_end(lookout_starts, lookout_ends, content, start=start, end=end)\n",
    "\n",
    "            counter += 1\n",
    "            if start != -1:\n",
    "                print('start', start, end)\n",
    "                if lookout_dict[k]['list']:\n",
    "                    if key_in_scope in bolig_dict_temp:\n",
    "                        bolig_dict_temp[key_in_scope].append(content[start+len(lookout_starts[-1]):end].strip())\n",
    "                    else:\n",
    "                        bolig_dict_temp[key_in_scope] = [content[start+len(lookout_starts[-1]):end].strip()]\n",
    "                else:\n",
    "                    id_counter = 2\n",
    "                    if key_in_scope in bolig_dict_temp:\n",
    "                        bolig_dict_temp[key_in_scope + str(id_counter)] = content[start+len(lookout_starts[-1]):end].strip()\n",
    "                    else:\n",
    "                        bolig_dict_temp[key_in_scope] = content[start+len(lookout_starts[-1]):end].strip()\n",
    "                    id_counter += 1\n",
    "            else:\n",
    "                break\n",
    "            if counter >= lookout_dict[k]['limit']:\n",
    "                break\n",
    "\n",
    "        #break\n",
    "\n",
    "for k in bolig_dict_temp: \n",
    "    if len(k) < 100:\n",
    "        bolig_dict[k] = bolig_dict_temp[k]\n",
    "bolig_dict_temp"
   ]
  },
  {
   "cell_type": "code",
   "execution_count": 104,
   "metadata": {},
   "outputs": [],
   "source": [
    "# tag = soup.find('pre')\n",
    "# sub_soup = BeautifulSoup(str(tag), \"html.parser\")\n",
    "# sub_tags = {tag.name: 1 for tag in sub_soup.find_all()}\n",
    "# sub_tags\n",
    "# #type(html), type(soup), type(str(tag)), sub_soup"
   ]
  },
  {
   "cell_type": "code",
   "execution_count": 105,
   "metadata": {},
   "outputs": [],
   "source": [
    "#str(sub_soup)"
   ]
  },
  {
   "cell_type": "code",
   "execution_count": 106,
   "metadata": {},
   "outputs": [],
   "source": [
    "#subsub_soup = BeautifulSoup(sub_soup, \"html.parser\")"
   ]
  },
  {
   "cell_type": "code",
   "execution_count": 6,
   "metadata": {},
   "outputs": [
    {
     "name": "stdout",
     "output_type": "stream",
     "text": [
      "https://www.boliga.dk/bolig/1616756/tyboroen_alle_91__st_2720_vanloese\n"
     ]
    }
   ],
   "source": [
    "# for i, bolig in enumerate(bolig_liste.keys()):\n",
    "#     if i == 0:\n",
    "#         bolig_url = f'https://www.boliga.dk{bolig}'\n",
    "#         print(bolig_url)\n",
    "        \n",
    "#         try:\n",
    "#             page = urllib.request.urlopen(url_in_scope)\n",
    "#             soup = BeautifulSoup(page, 'html.parser')\n",
    "#             #print(soup)\n",
    "#             #body = soup.find('body')\n",
    "#             #body_no_tags = body.findChildren(recursive=False)\n",
    "#             #print(body_no_tags)\n",
    "#             tags = {tag.name: 1 for tag in soup.find_all()}\n",
    "# #            [str(tag) for tag in soup.find_all()]\n",
    "#         except Exception as e:\n",
    "#             print(\"An error occured.\", e)"
   ]
  },
  {
   "cell_type": "code",
   "execution_count": 7,
   "metadata": {},
   "outputs": [
    {
     "name": "stdout",
     "output_type": "stream",
     "text": [
      "      Interesting, found Marievej in html\n",
      "      Interesting, found 33.291 in html\n",
      "      Interesting, found mar. 2020 in html\n",
      "      Interesting, found Boligen blev sat til salg in html\n",
      "      Interesting, found 120 in html\n",
      "      Interesting, found 2500 Valby in html\n",
      "      Interesting, found 2500 Valby in html\n",
      "      Interesting, found Se bolig hos mægler in html\n",
      "      Interesting, found Marievej in body\n",
      "      Interesting, found 33.291 in body\n",
      "      Interesting, found mar. 2020 in body\n",
      "      Interesting, found 120 in body\n",
      "      Interesting, found 2500 Valby in body\n",
      "      Interesting, found 2500 Valby in body\n",
      "      Interesting, found Marievej in body\n",
      "      Interesting, found Boligen blev sat til salg in body\n",
      "      Interesting, found 120 in body\n",
      "      Interesting, found Se bolig hos mægler in body\n",
      "      Interesting, found Marievej in app-root\n",
      "      Interesting, found 33.291 in app-root\n",
      "      Interesting, found mar. 2020 in app-root\n",
      "      Interesting, found 120 in app-root\n",
      "      Interesting, found 2500 Valby in app-root\n",
      "      Interesting, found 2500 Valby in app-root\n",
      "      Interesting, found Marievej in app-scroll-position-restoration\n",
      "      Interesting, found 33.291 in app-scroll-position-restoration\n",
      "      Interesting, found mar. 2020 in app-scroll-position-restoration\n",
      "      Interesting, found 120 in app-scroll-position-restoration\n",
      "      Interesting, found 2500 Valby in app-scroll-position-restoration\n",
      "      Interesting, found 2500 Valby in app-scroll-position-restoration\n",
      "      Interesting, found Marievej in app-housing-list\n",
      "      Interesting, found 33.291 in app-housing-list\n",
      "      Interesting, found mar. 2020 in app-housing-list\n",
      "      Interesting, found 120 in app-housing-list\n",
      "      Interesting, found 2500 Valby in app-housing-list\n",
      "      Interesting, found 2500 Valby in app-housing-list\n",
      "      Interesting, found Marievej in app-housing-list-results\n",
      "      Interesting, found 33.291 in app-housing-list-results\n",
      "      Interesting, found mar. 2020 in app-housing-list-results\n",
      "      Interesting, found 120 in app-housing-list-results\n",
      "      Interesting, found 2500 Valby in app-housing-list-results\n",
      "      Interesting, found 2500 Valby in app-housing-list-results\n"
     ]
    }
   ],
   "source": [
    "# [str(tag_v) for tag_v in soup.find('html')][2]\n",
    "\n",
    "# look_for_list = ['Marievej', '4.940', '4.945.000', '33.291', 'mar. 2020', 'Boligen blev sat til salg', \n",
    "#                  '120', '2500 Valby', '2500 Valby','7 dage på markedet', 'Se bolig hos mægler', 'danbolig']\n",
    "\n",
    "# for t in list(tags):\n",
    "#     #print('tag', t)\n",
    "#     tag_values = [str(tag_v) for tag_v in soup.find(t)]\n",
    "#     for j, tag_v in enumerate(tag_values):\n",
    "#         #print(j)\n",
    "#         #if j < 2:\n",
    "#         for lookout in look_for_list:\n",
    "#             if lookout in tag_v:\n",
    "#                 print(' '*5, 'Interesting, found', lookout, 'in', t)\n",
    "# #         if tag_v in\n",
    "# #             print(' '*5, j, tag_v)\n",
    "    "
   ]
  },
  {
   "cell_type": "markdown",
   "metadata": {},
   "source": [
    "Some information seems to be missing. Maybe it's because some javascript is not yet calculated."
   ]
  },
  {
   "cell_type": "code",
   "execution_count": 10,
   "metadata": {},
   "outputs": [],
   "source": []
  },
  {
   "cell_type": "code",
   "execution_count": 11,
   "metadata": {},
   "outputs": [
    {
     "name": "stdout",
     "output_type": "stream",
     "text": [
      "\n",
      "Looking for [chromedriver 80.0.3987.106 win32] driver in cache \n",
      "File found in cache by path [C:\\Users\\theone\\.wdm\\drivers\\chromedriver\\80.0.3987.106\\win32\\chromedriver.exe]\n"
     ]
    }
   ],
   "source": []
  },
  {
   "cell_type": "code",
   "execution_count": 12,
   "metadata": {},
   "outputs": [],
   "source": []
  },
  {
   "cell_type": "code",
   "execution_count": 17,
   "metadata": {},
   "outputs": [],
   "source": []
  },
  {
   "cell_type": "code",
   "execution_count": 52,
   "metadata": {},
   "outputs": [
    {
     "name": "stdout",
     "output_type": "stream",
     "text": [
      "Marievej is apparant\n",
      "4.672 is apparant\n",
      "4.945.000 is apparant\n",
      "250.000 is apparant\n",
      "43.377 is apparant\n",
      "mar. 2020 is apparant\n",
      "Boligen blev sat til salg is apparant\n",
      "A20 is apparant\n",
      "114 is apparant\n",
      "2500 Valby is apparant\n",
      "6 dage på markedet is apparant\n",
      "Se bolig hos mægler is apparant\n",
      "danbolig is apparant\n"
     ]
    }
   ],
   "source": [
    "\n",
    "\n",
    "for interest in look_for_list:\n",
    "    #print(interest)\n",
    "    if interest in html:\n",
    "        print(interest, 'is apparant')\n",
    "    else:\n",
    "        print(interest, 'not found :()')\n",
    "\n",
    "#html"
   ]
  },
  {
   "cell_type": "code",
   "execution_count": null,
   "metadata": {},
   "outputs": [],
   "source": [
    "# TRY 1: Fialing.. ..\n",
    "\n",
    "#soup = BeautifulSoup(page, 'html.parser')\n",
    "#print(soup)\n",
    "\n",
    "\n",
    "\n",
    "#https://stackoverflow.com/questions/8049520/web-scraping-javascript-page-with-python\n",
    "from requests_html import HTMLSession, AsyncHTMLSession\n",
    "\n",
    "# session = HTMLSession()\n",
    "# r = session.get(bolig_url)\n",
    "# r.html.render()\n",
    "\n",
    "\n",
    "import asyncio\n",
    "if asyncio.get_event_loop().is_running(): # Only patch if needed (i.e. running in Notebook, Spyder, etc)\n",
    "    import nest_asyncio\n",
    "    nest_asyncio.apply()\n",
    "\n",
    "\n",
    "session = AsyncHTMLSession()\n",
    "r = await session.get(bolig_url)\n",
    "#await r.html.arender()\n",
    "#resp=r.html.raw_html\n",
    "#print(resp)"
   ]
  },
  {
   "cell_type": "code",
   "execution_count": null,
   "metadata": {},
   "outputs": [],
   "source": []
  },
  {
   "cell_type": "code",
   "execution_count": null,
   "metadata": {},
   "outputs": [],
   "source": []
  },
  {
   "cell_type": "code",
   "execution_count": null,
   "metadata": {},
   "outputs": [],
   "source": []
  },
  {
   "cell_type": "code",
   "execution_count": null,
   "metadata": {},
   "outputs": [],
   "source": []
  }
 ],
 "metadata": {
  "kernelspec": {
   "display_name": "Python 3",
   "language": "python",
   "name": "python3"
  },
  "language_info": {
   "codemirror_mode": {
    "name": "ipython",
    "version": 3
   },
   "file_extension": ".py",
   "mimetype": "text/x-python",
   "name": "python",
   "nbconvert_exporter": "python",
   "pygments_lexer": "ipython3",
   "version": "3.8.2"
  }
 },
 "nbformat": 4,
 "nbformat_minor": 4
}
